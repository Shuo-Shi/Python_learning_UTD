{
 "cells": [
  {
   "cell_type": "code",
   "execution_count": 1,
   "metadata": {
    "collapsed": true
   },
   "outputs": [],
   "source": [
    "import requests\n",
    "import os\n",
    "import zipfile\n",
    "import re\n",
    "import glob\n",
    "import csv\n",
    "import sqlite3\n",
    "import openpyxl\n",
    "from openpyxl import load_workbook\n",
    "import math"
   ]
  },
  {
   "cell_type": "markdown",
   "metadata": {},
   "source": [
    "Downloading the Medicare Hospital Compare Data and Loading it into SQL"
   ]
  },
  {
   "cell_type": "code",
   "execution_count": 2,
   "metadata": {
    "collapsed": true
   },
   "outputs": [],
   "source": [
    "staging_dir_name = \"staging\""
   ]
  },
  {
   "cell_type": "code",
   "execution_count": 3,
   "metadata": {
    "scrolled": true
   },
   "outputs": [],
   "source": [
    "os.mkdir(staging_dir_name)"
   ]
  },
  {
   "cell_type": "code",
   "execution_count": 4,
   "metadata": {
    "collapsed": true
   },
   "outputs": [],
   "source": [
    "# Download the zip file from internet and then unzip it and save all the files into the staging directory\n",
    "zip_url=\"https://data.medicare.gov/views/bg9k-emty/files/0a9879e0-3312-4719-a1db-39fd114890f1?content_type=application%2Fzip%3B%20charset%3Dbinary&filename=Hospital_Revised_Flatfiles.zip\"\n",
    "r = requests.get(zip_url)\n",
    "zip_file_name = os.path.join(staging_dir_name, \"Hospital_Revised_Flatfiles.zip\")\n",
    "zf = open(zip_file_name, \"wb\")\n",
    "zf.write(r.content)\n",
    "zf.close()\n",
    "z = zipfile.ZipFile(zip_file_name,\"r\")\n",
    "z.extractall(staging_dir_name)\n",
    "z.close()"
   ]
  },
  {
   "cell_type": "code",
   "execution_count": 5,
   "metadata": {
    "collapsed": true
   },
   "outputs": [],
   "source": [
    "# Define a function to modify the table and column name as per the requirement\n",
    "def Table_Column_naming(input_text,name_type):\n",
    "    input_text = input_text.lower().replace(\" \",\"_\").replace(\"-\",\"_\").replace(\"%\",\"pct\").replace(\"/\",\"_\")\n",
    "    if not re.match(r'^[a-z]',input_text):\n",
    "        if name_type == \"Table\":\n",
    "            input_text = \"t_\"+input_text\n",
    "        elif name_type == \"Column\":\n",
    "            input_text = \"c_\"+input_text\n",
    "    return input_text"
   ]
  },
  {
   "cell_type": "code",
   "execution_count": 6,
   "metadata": {
    "collapsed": true
   },
   "outputs": [],
   "source": [
    "root_dir = os.getcwd()"
   ]
  },
  {
   "cell_type": "code",
   "execution_count": 7,
   "metadata": {
    "collapsed": true
   },
   "outputs": [],
   "source": [
    "# Fetch all the csv file name in the staging folder and save it into csv_list \n",
    "os.chdir(os.path.join(root_dir,staging_dir_name))\n",
    "csv_list = glob.glob('*.csv')"
   ]
  },
  {
   "cell_type": "code",
   "execution_count": 8,
   "metadata": {
    "collapsed": true,
    "scrolled": true
   },
   "outputs": [],
   "source": [
    "db_file_name = os.path.join(root_dir,\"medicare_hospital_compare.db\")"
   ]
  },
  {
   "cell_type": "code",
   "execution_count": 11,
   "metadata": {
    "collapsed": true
   },
   "outputs": [],
   "source": [
    "# Define a function to decode all the files using coding 'cp1252', then save to the csv file using coding 'utf-8'\n",
    "def csv_encoding_transfer(csv_file_name):\n",
    "    with open(csv_file_name, 'rt', encoding='cp1252') as f:\n",
    "        input_data = f.read()\n",
    "        if csv_file_name == 'FY2015_Percent_Change_in_Medicare_Payments.csv':\n",
    "            input_data = input_data.replace('\\0d\"', '<=').replace('\\n\\0\\n','\\n').replace('\"\\0\\t','\",')\n",
    "            input_data = '\"' + input_data[2:].replace('\\t\\0 \\0', '\",')\n",
    "        elif csv_file_name == 'MORT_READM_April2017.csv' or csv_file_name == 'PSI_April2017.csv':\n",
    "            input_data = input_data.replace('\\n ','\\n\"').replace('F,','F\",')[0:-3]\n",
    "    with open(csv_file_name, 'wt', encoding='utf-8') as r:\n",
    "        for c in input_data:\n",
    "            if c != '\\0' and c != '\\t':\n",
    "                r.write(c)"
   ]
  },
  {
   "cell_type": "code",
   "execution_count": 12,
   "metadata": {
    "collapsed": true
   },
   "outputs": [],
   "source": [
    "# Define a function of processing the csv file to create table and save all the contents into the database file\n",
    "def csv_file_processing(csv_file_name,db_file_name):\n",
    "    csv_encoding_transfer(csv_file_name)\n",
    "    table_name = Table_Column_naming(csv_file_name[0:-4],\"Table\")\n",
    "    conn = sqlite3.connect(db_file_name)\n",
    "    c1 = conn.cursor()\n",
    "    with open(csv_file_name, 'r', encoding='utf-8') as f:\n",
    "        #reader = csv.reader(f,delimiter=',', quoting=csv.QUOTE_NONE)\n",
    "        reader = csv.reader(f)\n",
    "        i = 1\n",
    "        for row in reader:\n",
    "            if i == 1:\n",
    "                column_name_list = [Table_Column_naming(x,\"Column\") for x in row]\n",
    "                sql_str = 'create table if not exists '+table_name+' (\\n'+' text,\\n'.join(column_name_list)+' text\\n)'\n",
    "                c1.execute(sql_str)\n",
    "                i+=1\n",
    "            else:\n",
    "                #sql_str = 'insert into '+table_name+' '+str(tuple(column_name_list))+' values ('+('?,'*len(row))[0:-1]+')'\n",
    "                sql_str = 'insert into '+table_name+' values ('+('?,'*len(row))[0:-1]+')'\n",
    "                sql_tuple = tuple(row)\n",
    "                c1.execute(sql_str,sql_tuple)\n",
    "        conn.commit()"
   ]
  },
  {
   "cell_type": "code",
   "execution_count": 13,
   "metadata": {
    "scrolled": false
   },
   "outputs": [],
   "source": [
    "for csv_file_name in csv_list:\n",
    "    csv_file_processing(csv_file_name,db_file_name)"
   ]
  },
  {
   "cell_type": "markdown",
   "metadata": {},
   "source": [
    "Download MS Excel Workbook of In House Proprietary Hospital Rankings and Focus List of States"
   ]
  },
  {
   "cell_type": "code",
   "execution_count": 14,
   "metadata": {
    "collapsed": true
   },
   "outputs": [],
   "source": [
    "# Define a function of processing excel file to create and save contents into database file\n",
    "def excel_sheet_processing(sheet_name,db_file_name):\n",
    "    table_name = sheet_name\n",
    "    conn = sqlite3.connect(db_file_name)\n",
    "    c1 = conn.cursor()\n",
    "    sheet = wb.get_sheet_by_name(sheet_name)\n",
    "    i = 1\n",
    "    while sheet.cell(row = i, column = 1).value != None:\n",
    "        if i == 1:\n",
    "            if table_name == \"Hospital National Ranking\":\n",
    "                sql_str = 'create table if not exists \"'+table_name+ \\\n",
    "                '\" (\\n\"'+sheet.cell(row = i, column = 1).value+'\" text,\\n\"'+ \\\n",
    "                sheet.cell(row = i, column = 2).value+'\" integer\\n)'\n",
    "            else:\n",
    "                sql_str = 'create table if not exists \"'+table_name+ \\\n",
    "                '\" (\\n\"'+sheet.cell(row = i, column = 1).value+'\" text,\\n\"'+ \\\n",
    "                sheet.cell(row = i, column = 2).value+'\" text\\n)'\n",
    "            c1.execute(sql_str)\n",
    "        else:\n",
    "            sql_str = 'insert into \"'+table_name+'\" values (\"'+ \\\n",
    "            str(sheet.cell(row = i, column = 1).value)+'\",\"'+str(sheet.cell(row = i, column = 2).value)+'\")'\n",
    "            c1.execute(sql_str)\n",
    "        i+=1\n",
    "    conn.commit()"
   ]
  },
  {
   "cell_type": "code",
   "execution_count": 15,
   "metadata": {
    "collapsed": true
   },
   "outputs": [],
   "source": [
    "# Download excel file from internet and save it to the local directory\n",
    "Excel_url=\"http://kevincrook.com/utd/hospital_ranking_focus_states.xlsx\"\n",
    "r = requests.get(Excel_url)\n",
    "xf = open(\"hospital_ranking_focus_states.xlsx\",\"wb\")\n",
    "xf.write(r.content)\n",
    "xf.close()"
   ]
  },
  {
   "cell_type": "code",
   "execution_count": 16,
   "metadata": {
    "collapsed": true,
    "scrolled": true
   },
   "outputs": [],
   "source": [
    "wb = openpyxl.load_workbook(\"hospital_ranking_focus_states.xlsx\")\n",
    "for sheet_name in wb.get_sheet_names():\n",
    "    excel_sheet_processing(sheet_name,db_file_name) "
   ]
  },
  {
   "cell_type": "markdown",
   "metadata": {},
   "source": [
    "Create the Hospital Ranking MS Excel Workbook"
   ]
  },
  {
   "cell_type": "code",
   "execution_count": 17,
   "metadata": {
    "collapsed": true
   },
   "outputs": [],
   "source": [
    "# Define a function to wirte the database inquiry result into \"hospital_ranking\" excel sheet\n",
    "def write2sheet(rows,sheet):\n",
    "    sheet.cell(row = 1, column = 1, value = 'Provider ID') \n",
    "    sheet.cell(row = 1, column = 2, value = 'Hospital Name')\n",
    "    sheet.cell(row = 1, column = 3, value = 'City')\n",
    "    sheet.cell(row = 1, column = 4, value = 'State')\n",
    "    sheet.cell(row = 1, column = 5, value = 'County')\n",
    "    row_num = 2\n",
    "    for row in rows:\n",
    "        for col_num in range(len(row)):\n",
    "            if row_num < 102:\n",
    "                sheet.cell(row = row_num, column = col_num+1, value = row[col_num]) \n",
    "        row_num += 1"
   ]
  },
  {
   "cell_type": "code",
   "execution_count": 18,
   "metadata": {
    "collapsed": true
   },
   "outputs": [],
   "source": [
    "# Perform SQL inquiry to get contents of first sheet \"Nationwide\"\n",
    "conn = sqlite3.connect(db_file_name)\n",
    "c1 = conn.cursor()\n",
    "sql_str = 'select \"Provider ID\",hospital_name,city,state,county_name from hospital_general_information ' + \\\n",
    "            'join \"Hospital National Ranking\" ' + \\\n",
    "            'on hospital_general_information.provider_id = \"Hospital National Ranking\".\"Provider ID\" ' + \\\n",
    "            'where \"Hospital National Ranking\".Ranking < 101 ' + \\\n",
    "            'order by \"Hospital National Ranking\".Ranking'\n",
    "c1.execute(sql_str)\n",
    "rows = c1.fetchall()"
   ]
  },
  {
   "cell_type": "code",
   "execution_count": 19,
   "metadata": {
    "collapsed": true
   },
   "outputs": [],
   "source": [
    "# Create and write the SQL inquriy result into the first sheet \"Nationwide\"\n",
    "new_wb = openpyxl.Workbook()\n",
    "sheet_1 = new_wb.create_sheet(\"Nationwide\")\n",
    "write2sheet(rows,sheet_1)\n",
    "new_wb.remove_sheet(new_wb.get_sheet_by_name(\"Sheet\"))\n",
    "new_wb.save(os.path.join(root_dir,\"hospital_ranking.xlsx\"))"
   ]
  },
  {
   "cell_type": "code",
   "execution_count": 20,
   "metadata": {
    "collapsed": true
   },
   "outputs": [],
   "source": [
    "# Fetch the focus state list and sort it in alphabetic order\n",
    "sql_str = 'select \"State Name\" from \"Focus States\"'\n",
    "c1.execute(sql_str)\n",
    "rows = c1.fetchall()\n",
    "Focus_state = [i[0] for i in rows]\n",
    "Focus_state.sort()"
   ]
  },
  {
   "cell_type": "code",
   "execution_count": 21,
   "metadata": {
    "collapsed": true
   },
   "outputs": [],
   "source": [
    "# Create and write the SQL inquriy result into the sheet per focus state\n",
    "for state in Focus_state:\n",
    "    new_wb = load_workbook(os.path.join(root_dir,\"hospital_ranking.xlsx\"))\n",
    "    sheet_name = new_wb.create_sheet(state)\n",
    "    sql_str = 'select \"Provider ID\",hospital_name,city,state,county_name from hospital_general_information ' + \\\n",
    "                'join \"Hospital National Ranking\" ' + \\\n",
    "                'on hospital_general_information.provider_id = \"Hospital National Ranking\".\"Provider ID\" ' + \\\n",
    "                'join \"Focus States\" ' + \\\n",
    "                'on \"Focus States\".\"State Abbreviation\" = hospital_general_information.state ' + \\\n",
    "                'where \"Focus States\".\"State name\" = \"' + state + '\" ' + \\\n",
    "                'order by \"Hospital National Ranking\".Ranking'\n",
    "    c1.execute(sql_str)\n",
    "    rows = c1.fetchall()\n",
    "    write2sheet(rows,sheet_name)\n",
    "    new_wb.save(os.path.join(root_dir,\"hospital_ranking.xlsx\"))"
   ]
  },
  {
   "cell_type": "markdown",
   "metadata": {},
   "source": [
    "Create the Measures Statistical Analysis MS Excel Workbook"
   ]
  },
  {
   "cell_type": "code",
   "execution_count": 22,
   "metadata": {
    "collapsed": true
   },
   "outputs": [],
   "source": [
    "# Query data from timely_and_effective_care___hospital table and remove those non-numeric scores\n",
    "sql_str = 'select hospital_name,state,measure_id,measure_name,score from timely_and_effective_care___hospital'\n",
    "c1.execute(sql_str)\n",
    "rows = c1.fetchall()\n",
    "new_rows = [row for row in rows if len(row[4]) < 5]"
   ]
  },
  {
   "cell_type": "code",
   "execution_count": 23,
   "metadata": {
    "collapsed": true
   },
   "outputs": [],
   "source": [
    "# Save the query result into a new table in database, named as filtered_timely_and_effective_care_hospital\n",
    "i = 1\n",
    "for row in new_rows:\n",
    "    if i == 1:\n",
    "        sql_str = 'create table if not exists filtered_timely_and_effective_care_hospital (\\n' + \\\n",
    "                    'hospital_name text,\\n' + \\\n",
    "                    'state text,\\n' + \\\n",
    "                    'measure_id text,\\n' + \\\n",
    "                    'measure_name text,\\n' + \\\n",
    "                    'score integer\\n)'\n",
    "        c1.execute(sql_str)\n",
    "        i+=1\n",
    "    else:\n",
    "        sql_str = 'insert into filtered_timely_and_effective_care_hospital values ('+('?,'*len(row))[0:-1]+')'\n",
    "        sql_tuple = tuple(row)\n",
    "        c1.execute(sql_str,sql_tuple)\n",
    "conn.commit()"
   ]
  },
  {
   "cell_type": "code",
   "execution_count": 24,
   "metadata": {
    "collapsed": true
   },
   "outputs": [],
   "source": [
    "# Define a function to wirte the database inquiry result into \"measure_statistics\" excel sheet\n",
    "def stats_write2sheet(rows,sheet):\n",
    "    sheet.cell(row = 1, column = 1, value = 'Measure ID') \n",
    "    sheet.cell(row = 1, column = 2, value = 'Measure Name')\n",
    "    sheet.cell(row = 1, column = 3, value = 'Minimum')\n",
    "    sheet.cell(row = 1, column = 4, value = 'Maximum')\n",
    "    sheet.cell(row = 1, column = 5, value = 'Average')\n",
    "    sheet.cell(row = 1, column = 6, value = 'Standard Deviation')\n",
    "    row_num = 2\n",
    "    for row in rows:\n",
    "        for col_num in range(len(row)):\n",
    "            sheet.cell(row = row_num, column = col_num+1, value = row[col_num]) \n",
    "        row_num+=1"
   ]
  },
  {
   "cell_type": "code",
   "execution_count": 25,
   "metadata": {
    "collapsed": true
   },
   "outputs": [],
   "source": [
    "# Define a function to perform SQL inquiry to calculate standard deviation\n",
    "def stats_SQL(db_file_name,data_range):\n",
    "    conn = sqlite3.connect(db_file_name)\n",
    "    c1 = conn.cursor()\n",
    "    if data_range == \"Nationwide\":\n",
    "        sql_str = 'select measure_id,measure_name,MIN(score),MAX(score),AVG(score)' + \\\n",
    "                    'from filtered_timely_and_effective_care_hospital ' + \\\n",
    "                    'group by measure_id ' + \\\n",
    "                    'order by measure_name'\n",
    "    else:\n",
    "        sql_str = 'select measure_id,measure_name,MIN(score),MAX(score),AVG(score)' + \\\n",
    "                    'from filtered_timely_and_effective_care_hospital ' + \\\n",
    "                    'join \"Focus States\" ' + \\\n",
    "                    'on \"Focus States\".\"State Abbreviation\" = filtered_timely_and_effective_care_hospital.state ' + \\\n",
    "                    'where \"Focus States\".\"State Name\" = \"' + data_range + \\\n",
    "                    '\" group by measure_id ' + \\\n",
    "                    'order by measure_name'\n",
    "    c1.execute(sql_str)\n",
    "    rows = c1.fetchall()\n",
    "    \n",
    "    new_rows = []\n",
    "    for row in rows:\n",
    "        measure_id = row[0]\n",
    "        AVG = row[4]\n",
    "        if data_range == \"Nationwide\":\n",
    "            sql_str = 'select measure_id,score from filtered_timely_and_effective_care_hospital ' + \\\n",
    "                        'where measure_id = \"' + measure_id + '\"'\n",
    "        else:\n",
    "            sql_str = 'select measure_id,score from filtered_timely_and_effective_care_hospital ' + \\\n",
    "                        'join \"Focus States\" ' + \\\n",
    "                        'on \"Focus States\".\"State Abbreviation\" = filtered_timely_and_effective_care_hospital.state ' + \\\n",
    "                        'where \"Focus States\".\"State Name\" = \"' + data_range + \\\n",
    "                        '\" and measure_id = \"' + measure_id + '\"'\n",
    "        c1.execute(sql_str)\n",
    "        sub_rows = c1.fetchall()\n",
    "        SUM = 0\n",
    "        COUNT = 0\n",
    "        for sub_row in sub_rows:\n",
    "            SUM += pow((sub_row[1] - AVG),2)\n",
    "            COUNT += 1\n",
    "        new_rows.append(row + (math.sqrt(SUM/COUNT),))\n",
    "    return new_rows"
   ]
  },
  {
   "cell_type": "code",
   "execution_count": 26,
   "metadata": {
    "collapsed": true
   },
   "outputs": [],
   "source": [
    "# Create MS Excel Workbook named as “measure_statistics.xlsx” and it's first sheet \"Nationwide\"\n",
    "new_wb = openpyxl.Workbook()\n",
    "stats_sheet1 = new_wb.create_sheet(\"Nationwide\")\n",
    "stats_write2sheet(stats_SQL(db_file_name,\"Nationwide\"),stats_sheet1)\n",
    "new_wb.remove_sheet(new_wb.get_sheet_by_name(\"Sheet\"))\n",
    "new_wb.save(os.path.join(root_dir,\"measure_statistics.xlsx\"))"
   ]
  },
  {
   "cell_type": "code",
   "execution_count": 27,
   "metadata": {
    "collapsed": true
   },
   "outputs": [],
   "source": [
    "# Write the focus state sheet into the MS Excel Workbook “measure_statistics.xlsx”\n",
    "for state in Focus_state:\n",
    "    new_wb = load_workbook(os.path.join(root_dir,\"measure_statistics.xlsx\"))\n",
    "    sheet_name = new_wb.create_sheet(state)\n",
    "    stats_write2sheet(stats_SQL(db_file_name,state),sheet_name)\n",
    "    new_wb.save(os.path.join(root_dir,\"measure_statistics.xlsx\"))"
   ]
  }
 ],
 "metadata": {
  "kernelspec": {
   "display_name": "Python 3",
   "language": "python",
   "name": "python3"
  },
  "language_info": {
   "codemirror_mode": {
    "name": "ipython",
    "version": 3
   },
   "file_extension": ".py",
   "mimetype": "text/x-python",
   "name": "python",
   "nbconvert_exporter": "python",
   "pygments_lexer": "ipython3",
   "version": "3.6.2"
  }
 },
 "nbformat": 4,
 "nbformat_minor": 2
}
