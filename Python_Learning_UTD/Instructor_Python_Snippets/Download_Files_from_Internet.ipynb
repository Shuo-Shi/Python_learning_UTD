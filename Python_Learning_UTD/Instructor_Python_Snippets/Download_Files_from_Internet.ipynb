{
 "cells": [
  {
   "cell_type": "code",
   "execution_count": 3,
   "metadata": {
    "collapsed": true
   },
   "outputs": [],
   "source": [
    "import requests"
   ]
  },
  {
   "cell_type": "markdown",
   "metadata": {},
   "source": [
<<<<<<< HEAD
    "download a excel file"
=======
    "download a binary file, such as excel, images, videos, etc."
>>>>>>> cd7bcaff932aa498ecc8345f34f22b5a7fe18309
   ]
  },
  {
   "cell_type": "code",
   "execution_count": 23,
   "metadata": {
    "collapsed": true
   },
   "outputs": [],
   "source": [
    "url = \"http://kevincrook.com/utd/hospital_ranking_focus_states.xlsx\""
   ]
  },
  {
   "cell_type": "code",
   "execution_count": 24,
   "metadata": {
    "collapsed": true
   },
   "outputs": [],
   "source": [
    "r = requests.get(url)"
   ]
  },
  {
   "cell_type": "code",
   "execution_count": 25,
   "metadata": {},
   "outputs": [
    {
     "data": {
      "text/plain": [
       "{'Content-Type': 'application/vnd.openxmlformats-officedocument.spreadsheetml.sheet', 'Content-Length': '85117', 'Connection': 'keep-alive', 'Keep-Alive': 'timeout=15', 'Date': 'Sat, 30 Sep 2017 16:52:03 GMT', 'Server': 'Apache', 'Last-Modified': 'Fri, 07 Jul 2017 18:14:49 GMT', 'ETag': '\"14c7d-553be35705840\"', 'Accept-Ranges': 'bytes'}"
      ]
     },
     "execution_count": 25,
     "metadata": {},
     "output_type": "execute_result"
    }
   ],
   "source": [
    "r.headers"
   ]
  },
  {
   "cell_type": "code",
   "execution_count": 26,
   "metadata": {},
   "outputs": [
    {
     "data": {
      "text/plain": [
       "'85117'"
      ]
     },
     "execution_count": 26,
     "metadata": {},
     "output_type": "execute_result"
    }
   ],
   "source": [
    "r.headers['Content-Length']"
   ]
  },
  {
   "cell_type": "code",
   "execution_count": 7,
   "metadata": {
<<<<<<< HEAD
    "scrolled": true
=======
    "collapsed": false
>>>>>>> cd7bcaff932aa498ecc8345f34f22b5a7fe18309
   },
   "outputs": [
    {
     "data": {
      "text/plain": [
       "bytes"
      ]
     },
     "execution_count": 7,
     "metadata": {},
     "output_type": "execute_result"
    }
   ],
   "source": [
    "type(r.content)"
   ]
  },
  {
   "cell_type": "code",
<<<<<<< HEAD
   "execution_count": 27,
   "metadata": {},
=======
   "execution_count": 8,
   "metadata": {
    "collapsed": true
   },
   "outputs": [],
   "source": [
    "f = open(\"test_download_excel.xlsx\",\"wb\")"
   ]
  },
  {
   "cell_type": "code",
   "execution_count": 9,
   "metadata": {
    "collapsed": false
   },
>>>>>>> cd7bcaff932aa498ecc8345f34f22b5a7fe18309
   "outputs": [
    {
     "data": {
      "text/plain": [
       "85117"
      ]
     },
<<<<<<< HEAD
     "execution_count": 27,
=======
     "execution_count": 9,
>>>>>>> cd7bcaff932aa498ecc8345f34f22b5a7fe18309
     "metadata": {},
     "output_type": "execute_result"
    }
   ],
   "source": [
    "f.write(r.content)"
   ]
  },
  {
   "cell_type": "code",
<<<<<<< HEAD
   "execution_count": 28,
=======
   "execution_count": 10,
>>>>>>> cd7bcaff932aa498ecc8345f34f22b5a7fe18309
   "metadata": {
    "collapsed": true
   },
   "outputs": [],
   "source": [
    "f.close()"
   ]
  },
  {
   "cell_type": "code",
<<<<<<< HEAD
   "execution_count": 29,
   "metadata": {},
=======
   "execution_count": 11,
   "metadata": {
    "collapsed": true
   },
   "outputs": [],
   "source": [
    "f = open(\"hospital_ranking_focus_states.xlsx\",\"wb\")"
   ]
  },
  {
   "cell_type": "code",
   "execution_count": 12,
   "metadata": {
    "collapsed": false
   },
>>>>>>> cd7bcaff932aa498ecc8345f34f22b5a7fe18309
   "outputs": [
    {
     "data": {
      "text/plain": [
       "85117"
      ]
     },
<<<<<<< HEAD
     "execution_count": 29,
=======
     "execution_count": 12,
>>>>>>> cd7bcaff932aa498ecc8345f34f22b5a7fe18309
     "metadata": {},
     "output_type": "execute_result"
    }
   ],
   "source": [
    "f.write(r.content)"
   ]
  },
  {
   "cell_type": "code",
<<<<<<< HEAD
   "execution_count": 30,
=======
   "execution_count": 13,
>>>>>>> cd7bcaff932aa498ecc8345f34f22b5a7fe18309
   "metadata": {
    "collapsed": true
   },
   "outputs": [],
   "source": [
    "f.close()"
   ]
  },
  {
   "cell_type": "markdown",
<<<<<<< HEAD
   "metadata": {
    "collapsed": true
   },
   "source": [
    "download a text file"
=======
   "metadata": {},
   "source": [
    "down a text file"
>>>>>>> cd7bcaff932aa498ecc8345f34f22b5a7fe18309
   ]
  },
  {
   "cell_type": "code",
<<<<<<< HEAD
   "execution_count": 13,
=======
   "execution_count": 45,
>>>>>>> cd7bcaff932aa498ecc8345f34f22b5a7fe18309
   "metadata": {
    "collapsed": true
   },
   "outputs": [],
   "source": [
    "url = \"http://kevincrook.com/\""
<<<<<<< HEAD
   ]
  },
  {
   "cell_type": "code",
   "execution_count": 14,
   "metadata": {},
   "outputs": [],
   "source": [
    "r = requests.get(url)"
   ]
  },
  {
   "cell_type": "code",
   "execution_count": 15,
   "metadata": {},
   "outputs": [
    {
     "data": {
      "text/plain": [
       "{'Content-Type': 'text/html', 'Transfer-Encoding': 'chunked', 'Connection': 'keep-alive', 'Keep-Alive': 'timeout=15', 'Date': 'Sat, 30 Sep 2017 16:30:37 GMT', 'Server': 'Apache', 'Last-Modified': 'Thu, 14 Sep 2017 22:50:23 GMT', 'ETag': 'W/\"1f6-5592e19fe09c0\"', 'Content-Encoding': 'gzip'}"
      ]
     },
     "execution_count": 15,
     "metadata": {},
     "output_type": "execute_result"
    }
   ],
   "source": [
    "r.headers"
   ]
  },
  {
   "cell_type": "code",
   "execution_count": 16,
   "metadata": {
    "scrolled": true
   },
   "outputs": [
    {
     "data": {
      "text/plain": [
       "'<!DOCTYPE html>\\n\\n<html lang=\"en\">\\n\\n<head>\\n  <meta charset=\"utf-8\">\\n  <title>Kevin R. Crook</title>\\n  <link rel=\"stylesheet\" href=\"index.css\">\\n</head>\\n\\n<body>\\n\\n  <header>\\n    <h1> Kevin R. Crook </h1>\\n    <h3> kevincrook.com </h3>\\n  </header>\\n\\n  <div class =\"main-content\">\\n\\n    <main>\\n\\n      <h2> University of California, Berkeley [ <a href=\"ucb/ucb.html\"> link </a>] </h2>\\n      <h2> Data Analytics [ <a href=\"\"> link </a>] </h2>\\n      \\n    </main>\\n\\n  </div>\\n\\n  <footer>\\n  </footer>\\n\\n</body>\\n\\n</html>'"
      ]
     },
     "execution_count": 16,
     "metadata": {},
     "output_type": "execute_result"
    }
   ],
   "source": [
    "r.text"
   ]
  },
  {
   "cell_type": "code",
   "execution_count": 19,
   "metadata": {
    "collapsed": true
   },
   "outputs": [],
   "source": [
    "f = open(\"text_download_test.txt\",\"wt\")"
   ]
  },
  {
   "cell_type": "code",
   "execution_count": 20,
   "metadata": {
    "collapsed": true
   },
   "outputs": [],
   "source": [
    "print(r.text, file=f)"
   ]
  },
  {
   "cell_type": "code",
   "execution_count": 22,
   "metadata": {},
   "outputs": [],
   "source": [
    "f.close()"
=======
>>>>>>> cd7bcaff932aa498ecc8345f34f22b5a7fe18309
   ]
  },
  {
   "cell_type": "code",
   "execution_count": 46,
   "metadata": {
    "collapsed": true
   },
   "outputs": [],
   "source": [
    "r = requests.get(url)"
   ]
  },
  {
   "cell_type": "code",
   "execution_count": 47,
   "metadata": {
    "collapsed": false
   },
   "outputs": [
    {
     "data": {
      "text/plain": [
       "{'Content-Type': 'text/html', 'Transfer-Encoding': 'chunked', 'Connection': 'keep-alive', 'Keep-Alive': 'timeout=15', 'Date': 'Sat, 30 Sep 2017 16:30:25 GMT', 'Server': 'Apache', 'Last-Modified': 'Thu, 14 Sep 2017 22:50:23 GMT', 'ETag': 'W/\"1f6-5592e19fe09c0\"', 'Content-Encoding': 'gzip'}"
      ]
     },
     "execution_count": 47,
     "metadata": {},
     "output_type": "execute_result"
    }
   ],
   "source": [
    "r.headers"
   ]
  },
  {
   "cell_type": "code",
   "execution_count": 48,
   "metadata": {
    "collapsed": false
   },
   "outputs": [
    {
     "data": {
      "text/plain": [
       "'<!DOCTYPE html>\\n\\n<html lang=\"en\">\\n\\n<head>\\n  <meta charset=\"utf-8\">\\n  <title>Kevin R. Crook</title>\\n  <link rel=\"stylesheet\" href=\"index.css\">\\n</head>\\n\\n<body>\\n\\n  <header>\\n    <h1> Kevin R. Crook </h1>\\n    <h3> kevincrook.com </h3>\\n  </header>\\n\\n  <div class =\"main-content\">\\n\\n    <main>\\n\\n      <h2> University of California, Berkeley [ <a href=\"ucb/ucb.html\"> link </a>] </h2>\\n      <h2> Data Analytics [ <a href=\"\"> link </a>] </h2>\\n      \\n    </main>\\n\\n  </div>\\n\\n  <footer>\\n  </footer>\\n\\n</body>\\n\\n</html>'"
      ]
     },
     "execution_count": 48,
     "metadata": {},
     "output_type": "execute_result"
    }
   ],
   "source": [
    "r.text"
   ]
  },
  {
   "cell_type": "code",
   "execution_count": 53,
   "metadata": {
    "collapsed": true
   },
   "outputs": [],
   "source": [
    "f = open(\"test_download_text.txt\",\"wt\")"
   ]
  },
  {
   "cell_type": "code",
   "execution_count": 54,
   "metadata": {
    "collapsed": true
   },
   "outputs": [],
   "source": [
    "print(r.text, file=f)"
   ]
  },
  {
   "cell_type": "code",
   "execution_count": 55,
   "metadata": {
    "collapsed": true
   },
   "outputs": [],
   "source": [
    "f.close()"
   ]
  },
  {
   "cell_type": "code",
   "execution_count": null,
   "metadata": {
    "collapsed": true
   },
   "outputs": [],
   "source": []
  }
 ],
 "metadata": {
  "kernelspec": {
   "display_name": "Python 3",
   "language": "python",
   "name": "python3"
  },
  "language_info": {
   "codemirror_mode": {
    "name": "ipython",
    "version": 3
   },
   "file_extension": ".py",
   "mimetype": "text/x-python",
   "name": "python",
   "nbconvert_exporter": "python",
   "pygments_lexer": "ipython3",
   "version": "3.6.1"
  }
 },
 "nbformat": 4,
 "nbformat_minor": 2
}
