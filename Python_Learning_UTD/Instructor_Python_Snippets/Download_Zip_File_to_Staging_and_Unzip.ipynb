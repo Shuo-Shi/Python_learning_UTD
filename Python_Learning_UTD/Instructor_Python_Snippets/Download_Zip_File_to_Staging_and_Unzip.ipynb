{
 "cells": [
  {
   "cell_type": "code",
<<<<<<< HEAD
   "execution_count": 13,
=======
   "execution_count": 16,
>>>>>>> cd7bcaff932aa498ecc8345f34f22b5a7fe18309
   "metadata": {
    "collapsed": true
   },
   "outputs": [],
   "source": [
    "import requests\n",
    "import os\n",
    "import zipfile"
   ]
  },
  {
   "cell_type": "code",
<<<<<<< HEAD
   "execution_count": 2,
=======
   "execution_count": 3,
>>>>>>> cd7bcaff932aa498ecc8345f34f22b5a7fe18309
   "metadata": {
    "collapsed": true
   },
   "outputs": [],
   "source": [
    "staging_dir_name = \"staging\""
   ]
  },
  {
   "cell_type": "code",
<<<<<<< HEAD
   "execution_count": 3,
   "metadata": {
    "collapsed": true
=======
   "execution_count": 5,
   "metadata": {
    "collapsed": false
>>>>>>> cd7bcaff932aa498ecc8345f34f22b5a7fe18309
   },
   "outputs": [],
   "source": [
    "os.mkdir(staging_dir_name)"
   ]
  },
  {
   "cell_type": "code",
<<<<<<< HEAD
   "execution_count": 12,
   "metadata": {},
=======
   "execution_count": 9,
   "metadata": {
    "collapsed": false
   },
>>>>>>> cd7bcaff932aa498ecc8345f34f22b5a7fe18309
   "outputs": [
    {
     "data": {
      "text/plain": [
       "True"
      ]
     },
<<<<<<< HEAD
     "execution_count": 12,
=======
     "execution_count": 9,
>>>>>>> cd7bcaff932aa498ecc8345f34f22b5a7fe18309
     "metadata": {},
     "output_type": "execute_result"
    }
   ],
   "source": [
    "os.path.isdir(staging_dir_name)"
   ]
  },
  {
   "cell_type": "code",
<<<<<<< HEAD
   "execution_count": 4,
=======
   "execution_count": 6,
>>>>>>> cd7bcaff932aa498ecc8345f34f22b5a7fe18309
   "metadata": {
    "collapsed": true
   },
   "outputs": [],
   "source": [
<<<<<<< HEAD
    "url = \"https://data.medicare.gov/views/bg9k-emty/files/0a9879e0-3312-4719-a1db-39fd114890f1?content_type=application%2Fzip%3B%20charset%3Dbinary&filename=Hospital_Revised_Flatfiles.zip\""
=======
    "url=\"https://data.medicare.gov/views/bg9k-emty/files/0a9879e0-3312-4719-a1db-39fd114890f1?content_type=application%2Fzip%3B%20charset%3Dbinary&filename=Hospital_Revised_Flatfiles.zip\""
>>>>>>> cd7bcaff932aa498ecc8345f34f22b5a7fe18309
   ]
  },
  {
   "cell_type": "code",
<<<<<<< HEAD
   "execution_count": 5,
=======
   "execution_count": 7,
>>>>>>> cd7bcaff932aa498ecc8345f34f22b5a7fe18309
   "metadata": {
    "collapsed": true
   },
   "outputs": [],
   "source": [
    "r = requests.get(url)"
   ]
  },
  {
   "cell_type": "code",
<<<<<<< HEAD
   "execution_count": 6,
   "metadata": {},
=======
   "execution_count": 8,
   "metadata": {
    "collapsed": false
   },
>>>>>>> cd7bcaff932aa498ecc8345f34f22b5a7fe18309
   "outputs": [
    {
     "data": {
      "text/plain": [
<<<<<<< HEAD
       "{'Server': 'nginx', 'Date': 'Sat, 30 Sep 2017 16:57:47 GMT', 'Content-Type': 'application/octet-stream', 'Content-Length': '15892509', 'Connection': 'keep-alive', 'X-Socrata-RequestId': '2sxv4emlb7bqapxrnnq65g6le', 'Access-Control-Allow-Origin': '*', 'ETag': '\"0a9879e0-3312-4719-a1db-39fd114890f1\"', 'X-Content-Type-Options': 'nosniff', 'Content-disposition': 'attachment; filename=Hospital_Revised_Flatfiles.zip', 'Cache-Control': 'private, must-revalidate, max-age=1209600', 'Expires': 'Sat, 14 Oct 2017 16:57:47 +0000', 'Age': '0', 'X-Socrata-Region': 'aws-us-east-1-fedramp-prod', 'Strict-Transport-Security': 'max-age=31536000; includeSubDomains'}"
      ]
     },
     "execution_count": 6,
=======
       "{'Server': 'nginx', 'Date': 'Sat, 30 Sep 2017 16:57:29 GMT', 'Content-Type': 'application/octet-stream', 'Content-Length': '15892509', 'Connection': 'keep-alive', 'X-Socrata-RequestId': '51qywqc8bsilfpgeln0tfzvc5', 'Access-Control-Allow-Origin': '*', 'ETag': '\"0a9879e0-3312-4719-a1db-39fd114890f1\"', 'X-Content-Type-Options': 'nosniff', 'Content-disposition': 'attachment; filename=Hospital_Revised_Flatfiles.zip', 'Cache-Control': 'private, must-revalidate, max-age=1209600', 'Expires': 'Sat, 14 Oct 2017 16:57:29 +0000', 'Age': '0', 'X-Socrata-Region': 'aws-us-east-1-fedramp-prod', 'Strict-Transport-Security': 'max-age=31536000; includeSubDomains'}"
      ]
     },
     "execution_count": 8,
>>>>>>> cd7bcaff932aa498ecc8345f34f22b5a7fe18309
     "metadata": {},
     "output_type": "execute_result"
    }
   ],
   "source": [
    "r.headers"
   ]
  },
  {
   "cell_type": "code",
<<<<<<< HEAD
   "execution_count": 7,
=======
   "execution_count": 10,
>>>>>>> cd7bcaff932aa498ecc8345f34f22b5a7fe18309
   "metadata": {
    "collapsed": true
   },
   "outputs": [],
   "source": [
    "zip_file_name = os.path.join(staging_dir_name, \"Hospital_Revised_Flatfiles.zip\")"
   ]
  },
  {
   "cell_type": "code",
<<<<<<< HEAD
   "execution_count": 8,
   "metadata": {},
=======
   "execution_count": 11,
   "metadata": {
    "collapsed": false
   },
>>>>>>> cd7bcaff932aa498ecc8345f34f22b5a7fe18309
   "outputs": [
    {
     "data": {
      "text/plain": [
       "'staging\\\\Hospital_Revised_Flatfiles.zip'"
      ]
     },
<<<<<<< HEAD
     "execution_count": 8,
=======
     "execution_count": 11,
>>>>>>> cd7bcaff932aa498ecc8345f34f22b5a7fe18309
     "metadata": {},
     "output_type": "execute_result"
    }
   ],
   "source": [
    "zip_file_name"
   ]
  },
  {
   "cell_type": "code",
<<<<<<< HEAD
   "execution_count": 9,
=======
   "execution_count": 12,
>>>>>>> cd7bcaff932aa498ecc8345f34f22b5a7fe18309
   "metadata": {
    "collapsed": true
   },
   "outputs": [],
   "source": [
    "zf = open(zip_file_name, \"wb\")"
   ]
  },
  {
   "cell_type": "code",
<<<<<<< HEAD
   "execution_count": 10,
   "metadata": {},
=======
   "execution_count": 14,
   "metadata": {
    "collapsed": false
   },
>>>>>>> cd7bcaff932aa498ecc8345f34f22b5a7fe18309
   "outputs": [
    {
     "data": {
      "text/plain": [
       "15892509"
      ]
     },
<<<<<<< HEAD
     "execution_count": 10,
=======
     "execution_count": 14,
>>>>>>> cd7bcaff932aa498ecc8345f34f22b5a7fe18309
     "metadata": {},
     "output_type": "execute_result"
    }
   ],
   "source": [
    "zf.write(r.content)"
   ]
  },
  {
   "cell_type": "code",
<<<<<<< HEAD
   "execution_count": 11,
=======
   "execution_count": 15,
>>>>>>> cd7bcaff932aa498ecc8345f34f22b5a7fe18309
   "metadata": {
    "collapsed": true
   },
   "outputs": [],
   "source": [
    "zf.close()"
   ]
  },
  {
   "cell_type": "code",
<<<<<<< HEAD
   "execution_count": 14,
=======
   "execution_count": 17,
>>>>>>> cd7bcaff932aa498ecc8345f34f22b5a7fe18309
   "metadata": {
    "collapsed": true
   },
   "outputs": [],
   "source": [
    "z = zipfile.ZipFile(zip_file_name,\"r\")"
   ]
  },
  {
   "cell_type": "code",
<<<<<<< HEAD
   "execution_count": 15,
=======
   "execution_count": 18,
>>>>>>> cd7bcaff932aa498ecc8345f34f22b5a7fe18309
   "metadata": {
    "collapsed": true
   },
   "outputs": [],
   "source": [
    "z.extractall(staging_dir_name)"
   ]
  },
  {
   "cell_type": "code",
<<<<<<< HEAD
   "execution_count": 16,
=======
   "execution_count": 19,
>>>>>>> cd7bcaff932aa498ecc8345f34f22b5a7fe18309
   "metadata": {
    "collapsed": true
   },
   "outputs": [],
   "source": [
    "z.close()"
   ]
  },
  {
   "cell_type": "code",
   "execution_count": null,
   "metadata": {
    "collapsed": true
   },
   "outputs": [],
   "source": []
  }
 ],
 "metadata": {
  "kernelspec": {
   "display_name": "Python 3",
   "language": "python",
   "name": "python3"
  },
  "language_info": {
   "codemirror_mode": {
    "name": "ipython",
    "version": 3
   },
   "file_extension": ".py",
   "mimetype": "text/x-python",
   "name": "python",
   "nbconvert_exporter": "python",
   "pygments_lexer": "ipython3",
<<<<<<< HEAD
   "version": "3.6.1"
=======
   "version": "3.6.0"
>>>>>>> cd7bcaff932aa498ecc8345f34f22b5a7fe18309
  }
 },
 "nbformat": 4,
 "nbformat_minor": 2
}
