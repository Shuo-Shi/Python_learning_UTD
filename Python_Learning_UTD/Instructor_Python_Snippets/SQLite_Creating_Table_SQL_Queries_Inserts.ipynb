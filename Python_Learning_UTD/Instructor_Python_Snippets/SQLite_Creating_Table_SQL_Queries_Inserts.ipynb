{
 "cells": [
  {
   "cell_type": "code",
   "execution_count": 1,
   "metadata": {
    "collapsed": true
   },
   "outputs": [],
   "source": [
    "import sqlite3"
   ]
  },
  {
<<<<<<< HEAD
   "cell_type": "markdown",
   "metadata": {},
   "source": [
    "SQLite3 is a stand alone single user database\n",
    "\n",
    "Procedure language --> Python\n",
    "Declartive language --> SQL\n",
    "\n",
    "DB Browers for SQLite"
   ]
  },
  {
=======
>>>>>>> cd7bcaff932aa498ecc8345f34f22b5a7fe18309
   "cell_type": "code",
   "execution_count": 2,
   "metadata": {
    "collapsed": true
   },
   "outputs": [],
   "source": [
<<<<<<< HEAD
    "conn = sqlite3.connect(\"test.db\") # create a stand-alone database"
=======
    "conn = sqlite3.connect(\"test.db\")"
>>>>>>> cd7bcaff932aa498ecc8345f34f22b5a7fe18309
   ]
  },
  {
   "cell_type": "code",
   "execution_count": 3,
   "metadata": {
    "collapsed": true
   },
   "outputs": [],
   "source": [
    "c1 = conn.cursor()"
   ]
  },
  {
   "cell_type": "code",
   "execution_count": 4,
<<<<<<< HEAD
   "metadata": {},
=======
   "metadata": {
    "collapsed": false
   },
>>>>>>> cd7bcaff932aa498ecc8345f34f22b5a7fe18309
   "outputs": [
    {
     "data": {
      "text/plain": [
<<<<<<< HEAD
       "<sqlite3.Cursor at 0x160f81157a0>"
=======
       "<sqlite3.Cursor at 0x2a224184880>"
>>>>>>> cd7bcaff932aa498ecc8345f34f22b5a7fe18309
      ]
     },
     "execution_count": 4,
     "metadata": {},
     "output_type": "execute_result"
    }
   ],
   "source": [
    "c1"
   ]
  },
  {
<<<<<<< HEAD
   "cell_type": "markdown",
   "metadata": {},
   "source": [
    "Change are stored in the cursor, and the data are updated in the DB when commit"
   ]
  },
  {
   "cell_type": "code",
   "execution_count": 6,
=======
   "cell_type": "code",
   "execution_count": 5,
>>>>>>> cd7bcaff932aa498ecc8345f34f22b5a7fe18309
   "metadata": {
    "collapsed": true
   },
   "outputs": [],
   "source": [
    "sql_str = \"drop table if exists my_table\""
   ]
  },
  {
   "cell_type": "code",
<<<<<<< HEAD
   "execution_count": 7,
   "metadata": {},
=======
   "execution_count": 6,
   "metadata": {
    "collapsed": false
   },
>>>>>>> cd7bcaff932aa498ecc8345f34f22b5a7fe18309
   "outputs": [
    {
     "data": {
      "text/plain": [
<<<<<<< HEAD
       "<sqlite3.Cursor at 0x160f81157a0>"
      ]
     },
     "execution_count": 7,
=======
       "<sqlite3.Cursor at 0x2a224184880>"
      ]
     },
     "execution_count": 6,
>>>>>>> cd7bcaff932aa498ecc8345f34f22b5a7fe18309
     "metadata": {},
     "output_type": "execute_result"
    }
   ],
   "source": [
    "c1.execute(sql_str)"
   ]
  },
  {
   "cell_type": "code",
<<<<<<< HEAD
   "execution_count": 10,
=======
   "execution_count": 8,
>>>>>>> cd7bcaff932aa498ecc8345f34f22b5a7fe18309
   "metadata": {
    "collapsed": true
   },
   "outputs": [],
   "source": [
    "sql_str = \"\"\"\n",
    "create table if not exists my_table (\n",
    "column_1 text,\n",
    "column_2 text,\n",
    "column_3 text\n",
    ")\n",
    "\"\"\""
   ]
  },
  {
   "cell_type": "code",
<<<<<<< HEAD
   "execution_count": 11,
   "metadata": {},
=======
   "execution_count": 9,
   "metadata": {
    "collapsed": false
   },
>>>>>>> cd7bcaff932aa498ecc8345f34f22b5a7fe18309
   "outputs": [
    {
     "data": {
      "text/plain": [
<<<<<<< HEAD
       "<sqlite3.Cursor at 0x160f81157a0>"
      ]
     },
     "execution_count": 11,
=======
       "<sqlite3.Cursor at 0x2a224184880>"
      ]
     },
     "execution_count": 9,
>>>>>>> cd7bcaff932aa498ecc8345f34f22b5a7fe18309
     "metadata": {},
     "output_type": "execute_result"
    }
   ],
   "source": [
    "c1.execute(sql_str)"
   ]
  },
  {
   "cell_type": "code",
<<<<<<< HEAD
   "execution_count": 12,
   "metadata": {},
=======
   "execution_count": 10,
   "metadata": {
    "collapsed": false
   },
>>>>>>> cd7bcaff932aa498ecc8345f34f22b5a7fe18309
   "outputs": [
    {
     "data": {
      "text/plain": [
<<<<<<< HEAD
       "<sqlite3.Cursor at 0x160f81157a0>"
      ]
     },
     "execution_count": 12,
=======
       "<sqlite3.Cursor at 0x2a224184880>"
      ]
     },
     "execution_count": 10,
>>>>>>> cd7bcaff932aa498ecc8345f34f22b5a7fe18309
     "metadata": {},
     "output_type": "execute_result"
    }
   ],
   "source": [
<<<<<<< HEAD
    "sql_str = \"insert into my_table (column_1,column_2,column_3) values (?, ?, ?)\"\n",
    "sql_tuple = ('a', 'b', 'c')\n",
    "c1.execute(sql_str,sql_tuple)"
=======
    "sql_str = \"insert into my_table (column_1, column_2, column_3) values (?, ?, ?)\"\n",
    "sql_tuple = ('a', 'b', 'c')\n",
    "c1.execute(sql_str, sql_tuple)"
>>>>>>> cd7bcaff932aa498ecc8345f34f22b5a7fe18309
   ]
  },
  {
   "cell_type": "code",
<<<<<<< HEAD
   "execution_count": 13,
=======
   "execution_count": 11,
>>>>>>> cd7bcaff932aa498ecc8345f34f22b5a7fe18309
   "metadata": {
    "collapsed": true
   },
   "outputs": [],
   "source": [
    "conn.commit()"
   ]
  },
  {
   "cell_type": "code",
<<<<<<< HEAD
   "execution_count": 14,
   "metadata": {},
=======
   "execution_count": 12,
   "metadata": {
    "collapsed": false
   },
>>>>>>> cd7bcaff932aa498ecc8345f34f22b5a7fe18309
   "outputs": [
    {
     "name": "stdout",
     "output_type": "stream",
     "text": [
      "('a', 'b', 'c')\n"
     ]
    }
   ],
   "source": [
    "sql_str = \"select * from my_table\"\n",
    "rows = c1.execute(sql_str)\n",
    "for row in rows:\n",
    "    print(row)"
   ]
  },
  {
   "cell_type": "code",
<<<<<<< HEAD
   "execution_count": 15,
   "metadata": {},
=======
   "execution_count": 13,
   "metadata": {
    "collapsed": false
   },
>>>>>>> cd7bcaff932aa498ecc8345f34f22b5a7fe18309
   "outputs": [
    {
     "name": "stdout",
     "output_type": "stream",
     "text": [
      "('table', 'my_table', 'my_table', 2, 'CREATE TABLE my_table (\\ncolumn_1 text,\\ncolumn_2 text,\\ncolumn_3 text\\n)')\n"
     ]
    }
   ],
   "source": [
    "sql_str = \"select * from sqlite_master\"\n",
    "rows = c1.execute(sql_str)\n",
    "for row in rows:\n",
    "    print(row)"
   ]
  },
  {
   "cell_type": "code",
<<<<<<< HEAD
   "execution_count": 17,
   "metadata": {},
=======
   "execution_count": 14,
   "metadata": {
    "collapsed": false
   },
>>>>>>> cd7bcaff932aa498ecc8345f34f22b5a7fe18309
   "outputs": [
    {
     "name": "stdout",
     "output_type": "stream",
     "text": [
      "(0, 'column_1', 'text', 0, None, 0)\n",
      "(1, 'column_2', 'text', 0, None, 0)\n",
      "(2, 'column_3', 'text', 0, None, 0)\n"
     ]
    }
   ],
   "source": [
    "sql_str = \"PRAGMA table_info('my_table')\"\n",
    "rows = c1.execute(sql_str)\n",
    "for row in rows:\n",
    "    print(row)"
   ]
  },
  {
   "cell_type": "code",
<<<<<<< HEAD
   "execution_count": 18,
   "metadata": {},
=======
   "execution_count": 15,
   "metadata": {
    "collapsed": false
   },
>>>>>>> cd7bcaff932aa498ecc8345f34f22b5a7fe18309
   "outputs": [
    {
     "name": "stdout",
     "output_type": "stream",
     "text": [
      "('table', 'my_table', 'my_table', 2, 'CREATE TABLE my_table (\\ncolumn_1 text,\\ncolumn_2 text,\\ncolumn_3 text\\n)')\n"
     ]
    }
   ],
   "source": [
    "sql_str = \"select * from sqlite_master where tbl_name = ?\"\n",
<<<<<<< HEAD
    "sql_tuple = ('my_table',) # use coma to make it a tuple\n",
    "rows = c1.execute(sql_str,sql_tuple)\n",
    "for row in rows:\n",
    "    print(row)"
=======
    "sql_tuple = ('my_table',)\n",
    "rows = c1.execute(sql_str, sql_tuple)\n",
    "for row in rows:\n",
    "    print(row)\n"
>>>>>>> cd7bcaff932aa498ecc8345f34f22b5a7fe18309
   ]
  },
  {
   "cell_type": "code",
<<<<<<< HEAD
   "execution_count": 19,
   "metadata": {},
=======
   "execution_count": 16,
   "metadata": {
    "collapsed": false
   },
>>>>>>> cd7bcaff932aa498ecc8345f34f22b5a7fe18309
   "outputs": [
    {
     "name": "stdout",
     "output_type": "stream",
     "text": [
      "(1,)\n"
     ]
    }
   ],
   "source": [
    "sql_str = \"select count(*) from my_table\"\n",
    "rows = c1.execute(sql_str)\n",
    "for row in rows:\n",
    "    print(row)"
   ]
  },
  {
   "cell_type": "code",
   "execution_count": null,
   "metadata": {
    "collapsed": true
   },
   "outputs": [],
   "source": []
  }
 ],
 "metadata": {
  "kernelspec": {
   "display_name": "Python 3",
   "language": "python",
   "name": "python3"
  },
  "language_info": {
   "codemirror_mode": {
    "name": "ipython",
    "version": 3
   },
   "file_extension": ".py",
   "mimetype": "text/x-python",
   "name": "python",
   "nbconvert_exporter": "python",
   "pygments_lexer": "ipython3",
<<<<<<< HEAD
   "version": "3.6.1"
=======
   "version": "3.6.0"
>>>>>>> cd7bcaff932aa498ecc8345f34f22b5a7fe18309
  }
 },
 "nbformat": 4,
 "nbformat_minor": 2
}
