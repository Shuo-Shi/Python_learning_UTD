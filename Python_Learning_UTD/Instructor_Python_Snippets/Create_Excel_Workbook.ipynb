{
 "cells": [
  {
   "cell_type": "code",
<<<<<<< HEAD
   "execution_count": 1,
   "metadata": {
    "collapsed": true
=======
   "execution_count": 15,
   "metadata": {
    "collapsed": false
>>>>>>> cd7bcaff932aa498ecc8345f34f22b5a7fe18309
   },
   "outputs": [],
   "source": [
    "import openpyxl"
   ]
  },
  {
   "cell_type": "code",
<<<<<<< HEAD
   "execution_count": 2,
   "metadata": {},
=======
   "execution_count": 16,
   "metadata": {
    "collapsed": true
   },
>>>>>>> cd7bcaff932aa498ecc8345f34f22b5a7fe18309
   "outputs": [],
   "source": [
    "wb = openpyxl.Workbook()"
   ]
  },
  {
   "cell_type": "code",
<<<<<<< HEAD
   "execution_count": 3,
=======
   "execution_count": 17,
>>>>>>> cd7bcaff932aa498ecc8345f34f22b5a7fe18309
   "metadata": {
    "collapsed": true
   },
   "outputs": [],
   "source": [
    "sheet_1 = wb.create_sheet(\"utd\")"
   ]
  },
  {
   "cell_type": "code",
<<<<<<< HEAD
   "execution_count": 4,
   "metadata": {},
=======
   "execution_count": 18,
   "metadata": {
    "collapsed": false
   },
>>>>>>> cd7bcaff932aa498ecc8345f34f22b5a7fe18309
   "outputs": [
    {
     "data": {
      "text/plain": [
<<<<<<< HEAD
       "<Cell 'utd'.A1>"
      ]
     },
     "execution_count": 4,
=======
       "<Cell utd.A1>"
      ]
     },
     "execution_count": 18,
>>>>>>> cd7bcaff932aa498ecc8345f34f22b5a7fe18309
     "metadata": {},
     "output_type": "execute_result"
    }
   ],
   "source": [
    "sheet_1.cell(row = 1, column = 1, value = \"buan\")"
   ]
  },
  {
   "cell_type": "code",
<<<<<<< HEAD
   "execution_count": 5,
=======
   "execution_count": 19,
>>>>>>> cd7bcaff932aa498ecc8345f34f22b5a7fe18309
   "metadata": {
    "collapsed": true
   },
   "outputs": [],
   "source": [
    "sheet_2 = wb.create_sheet(\"test\")"
   ]
  },
  {
   "cell_type": "code",
<<<<<<< HEAD
   "execution_count": 6,
   "metadata": {
    "scrolled": true
=======
   "execution_count": 20,
   "metadata": {
    "collapsed": false
>>>>>>> cd7bcaff932aa498ecc8345f34f22b5a7fe18309
   },
   "outputs": [
    {
     "data": {
      "text/plain": [
<<<<<<< HEAD
       "<Cell 'test'.A1>"
      ]
     },
     "execution_count": 6,
=======
       "<Cell test.A1>"
      ]
     },
     "execution_count": 20,
>>>>>>> cd7bcaff932aa498ecc8345f34f22b5a7fe18309
     "metadata": {},
     "output_type": "execute_result"
    }
   ],
   "source": [
    "sheet_2.cell(row = 1, column = 1, value = \"value\")"
   ]
  },
  {
   "cell_type": "code",
<<<<<<< HEAD
   "execution_count": 7,
=======
   "execution_count": 21,
>>>>>>> cd7bcaff932aa498ecc8345f34f22b5a7fe18309
   "metadata": {
    "collapsed": true
   },
   "outputs": [],
   "source": [
    "wb.remove_sheet(wb.get_sheet_by_name(\"Sheet\"))"
   ]
  },
  {
   "cell_type": "code",
<<<<<<< HEAD
   "execution_count": 8,
   "metadata": {
    "collapsed": true
=======
   "execution_count": 22,
   "metadata": {
    "collapsed": false
>>>>>>> cd7bcaff932aa498ecc8345f34f22b5a7fe18309
   },
   "outputs": [],
   "source": [
    "wb.save(\"excel_file_created_from_python.xlsx\")"
   ]
  },
  {
   "cell_type": "code",
   "execution_count": null,
   "metadata": {
    "collapsed": true
   },
   "outputs": [],
   "source": []
  }
 ],
 "metadata": {
  "kernelspec": {
   "display_name": "Python 3",
   "language": "python",
   "name": "python3"
  },
  "language_info": {
   "codemirror_mode": {
    "name": "ipython",
    "version": 3
   },
   "file_extension": ".py",
   "mimetype": "text/x-python",
   "name": "python",
   "nbconvert_exporter": "python",
   "pygments_lexer": "ipython3",
<<<<<<< HEAD
   "version": "3.6.1"
=======
   "version": "3.6.0"
>>>>>>> cd7bcaff932aa498ecc8345f34f22b5a7fe18309
  }
 },
 "nbformat": 4,
 "nbformat_minor": 2
}
